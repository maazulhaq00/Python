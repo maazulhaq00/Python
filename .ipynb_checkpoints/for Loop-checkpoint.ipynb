{
 "cells": [
  {
   "cell_type": "markdown",
   "metadata": {},
   "source": [
    "# for Loop"
   ]
  },
  {
   "cell_type": "markdown",
   "metadata": {},
   "source": [
    "### for VARIABLE in range(initial,exclusive final,step)"
   ]
  },
  {
   "cell_type": "code",
   "execution_count": 8,
   "metadata": {},
   "outputs": [
    {
     "name": "stdout",
     "output_type": "stream",
     "text": [
      "maaz\n",
      "maaz\n",
      "maaz\n",
      "maaz\n",
      "maaz\n"
     ]
    }
   ],
   "source": [
    "print(\"maaz\")\n",
    "print(\"maaz\")\n",
    "print(\"maaz\")\n",
    "print(\"maaz\")\n",
    "print(\"maaz\")"
   ]
  },
  {
   "cell_type": "code",
   "execution_count": 9,
   "metadata": {},
   "outputs": [
    {
     "name": "stdout",
     "output_type": "stream",
     "text": [
      "maaz\n",
      "maaz\n",
      "maaz\n",
      "maaz\n",
      "maaz\n"
     ]
    }
   ],
   "source": [
    "for i in range(5): # range(5) = range(0,5,1)  ,  range(start,end+1,step or increment)\n",
    "    print(\"maaz\")"
   ]
  },
  {
   "cell_type": "code",
   "execution_count": 10,
   "metadata": {},
   "outputs": [
    {
     "name": "stdout",
     "output_type": "stream",
     "text": [
      "0 maaz\n",
      "1 maaz\n",
      "2 maaz\n",
      "3 maaz\n",
      "4 maaz\n"
     ]
    }
   ],
   "source": [
    "for i in range(5):           # range(5) = range(0,5,1)  ,  range(start,end+1,step or increment)\n",
    "    print(i, \"maaz\")"
   ]
  },
  {
   "cell_type": "code",
   "execution_count": 11,
   "metadata": {},
   "outputs": [
    {
     "name": "stdout",
     "output_type": "stream",
     "text": [
      "100\n",
      "101\n",
      "102\n",
      "103\n",
      "104\n",
      "105\n",
      "106\n",
      "107\n",
      "108\n",
      "109\n"
     ]
    }
   ],
   "source": [
    "for i in range(100,110):           # range(start,end+1,step or increment)\n",
    "    print(i)"
   ]
  },
  {
   "cell_type": "code",
   "execution_count": 17,
   "metadata": {},
   "outputs": [
    {
     "name": "stdout",
     "output_type": "stream",
     "text": [
      "1\n",
      "3\n",
      "5\n",
      "7\n",
      "9\n"
     ]
    }
   ],
   "source": [
    "for i in range(1,10,2):           # range(start,end+1,step or increment)\n",
    "    print(i)"
   ]
  },
  {
   "cell_type": "code",
   "execution_count": 18,
   "metadata": {},
   "outputs": [
    {
     "name": "stdout",
     "output_type": "stream",
     "text": [
      "100\n",
      "99\n",
      "98\n",
      "97\n",
      "96\n",
      "95\n",
      "94\n",
      "93\n",
      "92\n",
      "91\n"
     ]
    }
   ],
   "source": [
    "for i in range(100,90,-1):           # range(start,end-1,step or decrement)\n",
    "    print(i)"
   ]
  },
  {
   "cell_type": "code",
   "execution_count": 19,
   "metadata": {},
   "outputs": [
    {
     "name": "stdout",
     "output_type": "stream",
     "text": [
      "100,95,90,85,80,75,70,65,60,55,50,45,40,35,30,25,20,15,10,5,"
     ]
    }
   ],
   "source": [
    "for i in range(100,0,-5):           # range(start,end-1,step or decrement)\n",
    "    print(i,end=\",\")"
   ]
  },
  {
   "cell_type": "markdown",
   "metadata": {},
   "source": [
    "## for loop on list"
   ]
  },
  {
   "cell_type": "code",
   "execution_count": 21,
   "metadata": {},
   "outputs": [
    {
     "name": "stdout",
     "output_type": "stream",
     "text": [
      "a\n",
      "3\n",
      "4.5\n",
      "True\n",
      "string\n",
      "(1, 2.3)\n"
     ]
    }
   ],
   "source": [
    "arr= ['a', 3 , 4.5 , True , \"string\" , (1,2.3)]\n",
    "\n",
    "for a in arr:             #in each iteration a value form arr is assigned to variable a\n",
    "    print(a)"
   ]
  },
  {
   "cell_type": "code",
   "execution_count": 22,
   "metadata": {},
   "outputs": [
    {
     "name": "stdout",
     "output_type": "stream",
     "text": [
      "City under consideration is KARACHI\n",
      "City under consideration is ISLAMABAD\n",
      "City under consideration is LAHORE\n",
      "City under consideration is PESHAWAR\n",
      "City under consideration is QUETTA\n"
     ]
    }
   ],
   "source": [
    "cities=['KARACHI','ISLAMABAD','LAHORE','PESHAWAR','QUETTA']\n",
    "for city in cities:\n",
    "    print(f\"City under consideration is {city}\")"
   ]
  },
  {
   "cell_type": "code",
   "execution_count": 24,
   "metadata": {},
   "outputs": [
    {
     "name": "stdout",
     "output_type": "stream",
     "text": [
      "Multiples if 11 are:\n",
      "11, 22, 33, 44, 55, 66, 77, "
     ]
    }
   ],
   "source": [
    "for num in [11,22,33,44,55,66,77]:\n",
    "    if num==11:\n",
    "        print(\"Multiples if 11 are:\")\n",
    "    print(num , end=\", \")"
   ]
  },
  {
   "cell_type": "markdown",
   "metadata": {},
   "source": [
    "## for loop on string"
   ]
  },
  {
   "cell_type": "code",
   "execution_count": 26,
   "metadata": {},
   "outputs": [
    {
     "name": "stdout",
     "output_type": "stream",
     "text": [
      "P\n",
      "a\n",
      "k\n",
      "i\n",
      "s\n",
      "t\n",
      "a\n",
      "n\n"
     ]
    }
   ],
   "source": [
    "country = 'Pakistan'\n",
    "for a in country:\n",
    "    print(a)"
   ]
  },
  {
   "cell_type": "markdown",
   "metadata": {},
   "source": [
    "## for loop on tuple"
   ]
  },
  {
   "cell_type": "code",
   "execution_count": 27,
   "metadata": {},
   "outputs": [
    {
     "name": "stdout",
     "output_type": "stream",
     "text": [
      "Pakistan\n",
      "Saudi Arabia\n"
     ]
    }
   ],
   "source": [
    "country = 'Pakistan' , \"Saudi Arabia\"\n",
    "for a in country:\n",
    "    print(a)"
   ]
  },
  {
   "cell_type": "code",
   "execution_count": 29,
   "metadata": {},
   "outputs": [
    {
     "name": "stdout",
     "output_type": "stream",
     "text": [
      "apple is a fruit\n",
      "mango is a fruit\n",
      "orange is a fruit\n",
      "grape is a fruit\n"
     ]
    }
   ],
   "source": [
    "for fruit in ('apple','mango','orange','grape'):\n",
    "    print(f\"{fruit} is a fruit\")"
   ]
  },
  {
   "cell_type": "markdown",
   "metadata": {},
   "source": [
    "## Break statement in for loop"
   ]
  },
  {
   "cell_type": "code",
   "execution_count": 30,
   "metadata": {},
   "outputs": [
    {
     "name": "stdout",
     "output_type": "stream",
     "text": [
      "0\n"
     ]
    }
   ],
   "source": [
    "for num in range(10):\n",
    "    if num%3==1:\n",
    "        break\n",
    "    print(num)"
   ]
  },
  {
   "cell_type": "code",
   "execution_count": 31,
   "metadata": {},
   "outputs": [],
   "source": [
    "for num in range(10):\n",
    "    if num%3==0:\n",
    "        break\n",
    "    print(num)"
   ]
  },
  {
   "cell_type": "code",
   "execution_count": 33,
   "metadata": {},
   "outputs": [
    {
     "name": "stdout",
     "output_type": "stream",
     "text": [
      "11\n",
      "7\n",
      "3\n"
     ]
    }
   ],
   "source": [
    "for num in [11,7,3,90]:\n",
    "    if num%2==0:\n",
    "        break\n",
    "    print(num)"
   ]
  },
  {
   "cell_type": "markdown",
   "metadata": {},
   "source": [
    "## Continue statement in for loop"
   ]
  },
  {
   "cell_type": "code",
   "execution_count": 35,
   "metadata": {},
   "outputs": [
    {
     "name": "stdout",
     "output_type": "stream",
     "text": [
      "I'm not 7. I am 0\n",
      "I'm not 7. I am 1\n",
      "I'm not 7. I am 2\n",
      "I'm not 7. I am 3\n",
      "I'm not 7. I am 4\n",
      "I'm not 7. I am 5\n",
      "I'm not 7. I am 6\n",
      "I'm not 7. I am 8\n",
      "I'm not 7. I am 9\n"
     ]
    }
   ],
   "source": [
    "for var in range(10):\n",
    "    if(var==7):\n",
    "        continue\n",
    "    print(\"I\\'m not 7. I am\" , var)"
   ]
  },
  {
   "cell_type": "code",
   "execution_count": 36,
   "metadata": {},
   "outputs": [
    {
     "name": "stdout",
     "output_type": "stream",
     "text": [
      "0 -- 1 -- 2 -- 3 -- 5 -- 6 -- 8 -- 9 -- "
     ]
    }
   ],
   "source": [
    "for var in range(10):\n",
    "    if var==4 or var==7:\n",
    "        continue\n",
    "    print(var,end=\" -- \")"
   ]
  },
  {
   "cell_type": "code",
   "execution_count": 37,
   "metadata": {},
   "outputs": [
    {
     "name": "stdout",
     "output_type": "stream",
     "text": [
      "1 3 5 7 9 11 13 15 17 19 "
     ]
    }
   ],
   "source": [
    "#printing odd numbers\n",
    "for num in range(20):\n",
    "    if num%2==0:   #True for even numbers \n",
    "        continue\n",
    "    print(num , end=\" \")\n",
    "    "
   ]
  },
  {
   "cell_type": "markdown",
   "metadata": {},
   "source": [
    "# Nested for Loop"
   ]
  },
  {
   "cell_type": "code",
   "execution_count": 39,
   "metadata": {},
   "outputs": [
    {
     "name": "stdout",
     "output_type": "stream",
     "text": [
      "outer_loop_no    inner_loop_no\n",
      "       0               0\n",
      "       0               1\n",
      "       0               2\n",
      "       0               3\n",
      "       0               4\n",
      "       1               0\n",
      "       1               1\n",
      "       1               2\n",
      "       1               3\n",
      "       1               4\n",
      "       2               0\n",
      "       2               1\n",
      "       2               2\n",
      "       2               3\n",
      "       2               4\n",
      "       3               0\n",
      "       3               1\n",
      "       3               2\n",
      "       3               3\n",
      "       3               4\n",
      "       4               0\n",
      "       4               1\n",
      "       4               2\n",
      "       4               3\n",
      "       4               4\n"
     ]
    }
   ],
   "source": [
    "print(\"outer_loop_no    inner_loop_no\")\n",
    "for a in range(5):\n",
    "    for b in range(5):\n",
    "        print(\"      \",a,\"             \",b)"
   ]
  },
  {
   "cell_type": "code",
   "execution_count": 42,
   "metadata": {},
   "outputs": [
    {
     "name": "stdout",
     "output_type": "stream",
     "text": [
      "Enter a number to learn the table:7\n",
      "7 * 1 = 7\n",
      "7 * 2 = 14\n",
      "7 * 3 = 21\n",
      "7 * 4 = 28\n",
      "7 * 5 = 35\n",
      "7 * 6 = 42\n",
      "7 * 7 = 49\n",
      "7 * 8 = 56\n",
      "7 * 9 = 63\n",
      "7 * 10 = 70\n"
     ]
    }
   ],
   "source": [
    "#print table of entered number\n",
    "\n",
    "a=int(input(\"Enter a number to learn the table:\"))\n",
    "for b in range(1,11):\n",
    "    print(f\"{a} * {b} = {a*b}\")"
   ]
  },
  {
   "cell_type": "code",
   "execution_count": 43,
   "metadata": {},
   "outputs": [
    {
     "name": "stdout",
     "output_type": "stream",
     "text": [
      "Enter a number to learn the tables:3\n",
      "The table of 1 :\n",
      "1 * 1 = 1\n",
      "1 * 2 = 2\n",
      "1 * 3 = 3\n",
      "1 * 4 = 4\n",
      "1 * 5 = 5\n",
      "1 * 6 = 6\n",
      "1 * 7 = 7\n",
      "1 * 8 = 8\n",
      "1 * 9 = 9\n",
      "1 * 10 = 10\n",
      "The table of 2 :\n",
      "2 * 1 = 2\n",
      "2 * 2 = 4\n",
      "2 * 3 = 6\n",
      "2 * 4 = 8\n",
      "2 * 5 = 10\n",
      "2 * 6 = 12\n",
      "2 * 7 = 14\n",
      "2 * 8 = 16\n",
      "2 * 9 = 18\n",
      "2 * 10 = 20\n",
      "The table of 3 :\n",
      "3 * 1 = 3\n",
      "3 * 2 = 6\n",
      "3 * 3 = 9\n",
      "3 * 4 = 12\n",
      "3 * 5 = 15\n",
      "3 * 6 = 18\n",
      "3 * 7 = 21\n",
      "3 * 8 = 24\n",
      "3 * 9 = 27\n",
      "3 * 10 = 30\n"
     ]
    }
   ],
   "source": [
    "#print tables from 2 to entered number\n",
    "\n",
    "a=int(input(\"Enter a number to learn the tables:\"))\n",
    "for b in range(1,a+1):\n",
    "    print(f\"The table of {b} :\")\n",
    "    for c in range(1,11):\n",
    "        print(f\"{b} * {c} = {b*c}\")"
   ]
  },
  {
   "cell_type": "code",
   "execution_count": null,
   "metadata": {},
   "outputs": [],
   "source": []
  }
 ],
 "metadata": {
  "kernelspec": {
   "display_name": "Python 3",
   "language": "python",
   "name": "python3"
  },
  "language_info": {
   "codemirror_mode": {
    "name": "ipython",
    "version": 3
   },
   "file_extension": ".py",
   "mimetype": "text/x-python",
   "name": "python",
   "nbconvert_exporter": "python",
   "pygments_lexer": "ipython3",
   "version": "3.7.4"
  }
 },
 "nbformat": 4,
 "nbformat_minor": 2
}
