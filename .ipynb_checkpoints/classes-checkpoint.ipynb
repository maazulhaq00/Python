{
 "cells": [
  {
   "cell_type": "markdown",
   "metadata": {},
   "source": [
    "# class"
   ]
  },
  {
   "cell_type": "code",
   "execution_count": 19,
   "metadata": {},
   "outputs": [],
   "source": [
    "# definig a class\n",
    "\n",
    "class Car():\n",
    "    \n",
    "    #attributes(variables)\n",
    "    def __init__(self,com=\"xyzcompany\",mod=\"xyzmodel\",clr=\"black\",yr=2020):\n",
    "        self.company=com\n",
    "        self.model=mod\n",
    "        self.color=clr\n",
    "        self.year=yr\n",
    "   \n",
    "    #behaviours\n",
    "    \n",
    "    def carinfo(self):\n",
    "        print(f\"Car's Company = {self.company}\")\n",
    "        print(f\"Car's model = {self.model}\")\n",
    "        print(f\"Car's Color = {self.color}\")\n",
    "        print(f\"Car's year = {self.year}\")\n",
    "\n",
    "    #.... may have further more functions"
   ]
  },
  {
   "cell_type": "code",
   "execution_count": 20,
   "metadata": {},
   "outputs": [],
   "source": [
    "# creating objects\n",
    "\n",
    "car1=Car()\n",
    "car2=Car(\"Honda\",\"civic\",\"blue\",2017)"
   ]
  },
  {
   "cell_type": "code",
   "execution_count": 21,
   "metadata": {},
   "outputs": [
    {
     "name": "stdout",
     "output_type": "stream",
     "text": [
      "note\n"
     ]
    }
   ],
   "source": [
    "### we can also use another initializer funtion to set default values if values are not supplied in ()\n",
    "\"\"\"\"def __init__(self):\n",
    "        self.company=\"xyzcompany\"\n",
    "        self.model=\"xyzmodel\"\n",
    "        self.color=\"black\"\n",
    "        self.year=2020\"\"\"\n",
    "print(\"note\")"
   ]
  },
  {
   "cell_type": "code",
   "execution_count": 23,
   "metadata": {},
   "outputs": [
    {
     "name": "stdout",
     "output_type": "stream",
     "text": [
      "Car's Company = xyzcompany\n",
      "Car's model = xyzmodel\n",
      "Car's Color = black\n",
      "Car's year = 2020\n",
      "\n",
      "\n",
      "\n",
      "Car's Company = Honda\n",
      "Car's model = civic\n",
      "Car's Color = blue\n",
      "Car's year = 2017\n"
     ]
    }
   ],
   "source": [
    "#accessing functions and variables\n",
    "\n",
    "car1.carinfo()\n",
    "print(\"\\n\\n\")\n",
    "car2.carinfo()"
   ]
  },
  {
   "cell_type": "code",
   "execution_count": 25,
   "metadata": {},
   "outputs": [
    {
     "name": "stdout",
     "output_type": "stream",
     "text": [
      "xyzcompany\n",
      "Honda\n"
     ]
    }
   ],
   "source": [
    "print(car1.company,car2.company,sep=\"\\n\")"
   ]
  },
  {
   "cell_type": "code",
   "execution_count": 26,
   "metadata": {},
   "outputs": [
    {
     "name": "stdout",
     "output_type": "stream",
     "text": [
      "black\n",
      "blue\n"
     ]
    }
   ],
   "source": [
    "print(car1.color,car2.color,sep=\"\\n\")"
   ]
  },
  {
   "cell_type": "code",
   "execution_count": 27,
   "metadata": {},
   "outputs": [
    {
     "name": "stdout",
     "output_type": "stream",
     "text": [
      "xyzcompany\n",
      "updating car1's company\n",
      "Toyota\n"
     ]
    }
   ],
   "source": [
    "# Updating (changing) an attribute value\n",
    "\n",
    "print(car1.company)\n",
    "print(\"updating car1's company\")\n",
    "car1.company=\"Toyota\"\n",
    "print(car1.company)\n"
   ]
  },
  {
   "cell_type": "code",
   "execution_count": 29,
   "metadata": {},
   "outputs": [
    {
     "name": "stdout",
     "output_type": "stream",
     "text": [
      "blue\n",
      "updating car2's color\n",
      "orange\n"
     ]
    }
   ],
   "source": [
    "print(car2.color)\n",
    "print(\"updating car2's color\")\n",
    "car2.color=\"orange\"\n",
    "print(car2.color)"
   ]
  },
  {
   "cell_type": "markdown",
   "metadata": {},
   "source": [
    "## Default attributes\n",
    "#### -> attribute that are same or obvious for a class, donot need to initiaize for every object\n",
    "#### -> initialized in class definition but can be updated for any object"
   ]
  },
  {
   "cell_type": "code",
   "execution_count": 32,
   "metadata": {},
   "outputs": [],
   "source": [
    "class Point():\n",
    "    def __init__(self,x,y):\n",
    "        self.xcord = x\n",
    "        self.ycord = y\n",
    "        self.zcord = 0   ##default attribute\n",
    "\n",
    "    def pointcords(self):\n",
    "        print(f\"Point is at ( {self.xcord} , {self.ycord} , {self.zcord} )\")\n",
    "\n",
    "p1=Point(2,6)\n",
    "p2=Point(11.11,4)\n",
    "p3=Point(3.5,4.2)      "
   ]
  },
  {
   "cell_type": "code",
   "execution_count": 39,
   "metadata": {},
   "outputs": [
    {
     "name": "stdout",
     "output_type": "stream",
     "text": [
      "Point is at ( 2 , 6 , 0 )\n",
      "Point is at ( 2 , 6 , 0 )\n",
      "Point is at ( 2 , 6 , 0 )\n"
     ]
    }
   ],
   "source": [
    "# Accessing\n",
    "p1.pointcords()\n",
    "p1.pointcords()\n",
    "p1.pointcords()"
   ]
  },
  {
   "cell_type": "code",
   "execution_count": 41,
   "metadata": {},
   "outputs": [
    {
     "name": "stdout",
     "output_type": "stream",
     "text": [
      "z-coordinate of p1 is 0\n",
      "z-coordinate of p2 is 0\n"
     ]
    }
   ],
   "source": [
    "#Acessing default attribute\n",
    "\n",
    "print(\"z-coordinate of p1 is\",p1.zcord)\n",
    "print(\"z-coordinate of p2 is\",p2.zcord)\n"
   ]
  },
  {
   "cell_type": "code",
   "execution_count": 43,
   "metadata": {},
   "outputs": [
    {
     "name": "stdout",
     "output_type": "stream",
     "text": [
      "z-coordinate of p1 is 0\n",
      "z-coordinate of p2 is 19\n"
     ]
    }
   ],
   "source": [
    "# Updating default attribute\n",
    "p2.zcord=19\n",
    "\n",
    "print(\"z-coordinate of p1 is\",p1.zcord)\n",
    "print(\"z-coordinate of p2 is\",p2.zcord)"
   ]
  },
  {
   "cell_type": "markdown",
   "metadata": {},
   "source": [
    "# get and set functions\n",
    "## 1. Updating attributes directly(learned previously)\n",
    "## 2. Updating attributes throught function"
   ]
  },
  {
   "cell_type": "code",
   "execution_count": 47,
   "metadata": {},
   "outputs": [],
   "source": [
    "class employ():\n",
    "    def __init__(self,Name,Gender,Salary):\n",
    "        self.name=Name\n",
    "        self.gender=Gender\n",
    "        self.salary=Salary\n",
    "    \n",
    "    def setName(self,newname):\n",
    "        self.name=newname    \n",
    "    def setgender(self,newgender):\n",
    "        self.gender=newgender    \n",
    "    def setSalary(self,newSal):\n",
    "        self.salary=newSal\n",
    "    def getName(self):\n",
    "        return(self.name)\n",
    "    \n",
    "    def getinfo(self):\n",
    "        print(\".....................\")\n",
    "        print(\"Name =\",self.name)\n",
    "        print(\"Gender =\",self.gender)\n",
    "        print(\"Salary =\",self.salary)\n",
    "        print(\".....................\")\n",
    "    "
   ]
  },
  {
   "cell_type": "code",
   "execution_count": 48,
   "metadata": {},
   "outputs": [
    {
     "name": "stdout",
     "output_type": "stream",
     "text": [
      ".....................\n",
      "Name = Ali\n",
      "Gender = M\n",
      "Salary = 20000\n",
      ".....................\n",
      ".....................\n",
      "Name = Zahid\n",
      "Gender = M\n",
      "Salary = 50000\n",
      ".....................\n",
      ".....................\n",
      "Name = Saba\n",
      "Gender = F\n",
      "Salary = 30000\n",
      ".....................\n"
     ]
    }
   ],
   "source": [
    "e1=employ(\"Ali\",\"M\",20000)\n",
    "e2=employ(\"Zahid\",\"M\",50000)\n",
    "e3=employ(\"Saba\",\"F\",30000)\n",
    "\n",
    "e1.getinfo()\n",
    "e2.getinfo()\n",
    "e3.getinfo()"
   ]
  },
  {
   "cell_type": "code",
   "execution_count": 50,
   "metadata": {},
   "outputs": [
    {
     "name": "stdout",
     "output_type": "stream",
     "text": [
      "the employ's name is Ali\n"
     ]
    }
   ],
   "source": [
    "employ1name= e1.getName()\n",
    "print(f\"the employ's name is {employ1name}\")"
   ]
  },
  {
   "cell_type": "code",
   "execution_count": 51,
   "metadata": {},
   "outputs": [
    {
     "name": "stdout",
     "output_type": "stream",
     "text": [
      ".....................\n",
      "Name = Qudoos\n",
      "Gender = M\n",
      "Salary = 20000\n",
      ".....................\n"
     ]
    }
   ],
   "source": [
    "e1.setName(\"Qudoos\")\n",
    "e1.getinfo()"
   ]
  },
  {
   "cell_type": "code",
   "execution_count": null,
   "metadata": {},
   "outputs": [],
   "source": []
  }
 ],
 "metadata": {
  "kernelspec": {
   "display_name": "Python 3",
   "language": "python",
   "name": "python3"
  },
  "language_info": {
   "codemirror_mode": {
    "name": "ipython",
    "version": 3
   },
   "file_extension": ".py",
   "mimetype": "text/x-python",
   "name": "python",
   "nbconvert_exporter": "python",
   "pygments_lexer": "ipython3",
   "version": "3.7.4"
  }
 },
 "nbformat": 4,
 "nbformat_minor": 2
}
