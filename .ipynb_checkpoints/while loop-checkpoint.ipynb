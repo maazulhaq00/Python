{
 "cells": [
  {
   "cell_type": "markdown",
   "metadata": {},
   "source": [
    "# while Loop"
   ]
  },
  {
   "cell_type": "markdown",
   "metadata": {},
   "source": [
    "### print a string multiple times"
   ]
  },
  {
   "cell_type": "code",
   "execution_count": 1,
   "metadata": {},
   "outputs": [
    {
     "name": "stdout",
     "output_type": "stream",
     "text": [
      "string\n",
      "string\n",
      "string\n",
      "string\n",
      "string\n"
     ]
    }
   ],
   "source": [
    "#without using loop\n",
    "\n",
    "print(\"string\")\n",
    "print(\"string\")\n",
    "print(\"string\")\n",
    "print(\"string\")\n",
    "print(\"string\")"
   ]
  },
  {
   "cell_type": "code",
   "execution_count": 6,
   "metadata": {},
   "outputs": [
    {
     "name": "stdout",
     "output_type": "stream",
     "text": [
      "0 string\n",
      "1 string\n",
      "2 string\n",
      "3 string\n",
      "4 string\n"
     ]
    }
   ],
   "source": [
    "#with for loop\n",
    "\n",
    "for i in range(5):  ## or range(0,5,1)\n",
    "    print(i,\"string\")"
   ]
  },
  {
   "cell_type": "code",
   "execution_count": 11,
   "metadata": {},
   "outputs": [
    {
     "name": "stdout",
     "output_type": "stream",
     "text": [
      "0 string\n",
      "1 string\n",
      "2 string\n",
      "3 string\n",
      "4 string\n"
     ]
    }
   ],
   "source": [
    "#with while loop\n",
    "\n",
    "j=0\n",
    "while j<5:\n",
    "    print(j,\"string\")\n",
    "    j+=1"
   ]
  },
  {
   "cell_type": "code",
   "execution_count": 14,
   "metadata": {},
   "outputs": [
    {
     "name": "stdout",
     "output_type": "stream",
     "text": [
      "0\n",
      "1\n",
      "2\n",
      "3\n",
      "4\n",
      "5\n",
      "6\n",
      "7\n",
      "8\n",
      "9\n"
     ]
    }
   ],
   "source": [
    "a=0\n",
    "while a<10:\n",
    "    print(a)\n",
    "    a+=1"
   ]
  },
  {
   "cell_type": "code",
   "execution_count": 15,
   "metadata": {},
   "outputs": [
    {
     "name": "stdout",
     "output_type": "stream",
     "text": [
      "0\n",
      "1\n",
      "2\n",
      "3\n",
      "4\n",
      "5\n",
      "6\n",
      "7\n",
      "8\n",
      "9\n",
      "10\n"
     ]
    }
   ],
   "source": [
    "a=0\n",
    "while a<=10:\n",
    "    print(a)\n",
    "    a+=1"
   ]
  },
  {
   "cell_type": "code",
   "execution_count": 17,
   "metadata": {},
   "outputs": [
    {
     "name": "stdout",
     "output_type": "stream",
     "text": [
      "Enter your favourit food : Biryani\n",
      "Enter your favourit food : Zinger\n",
      "Enter your favourit food : Pulao\n",
      "\n",
      "\n",
      " ['Biryani', 'Zinger', 'Pulao']\n"
     ]
    }
   ],
   "source": [
    "x=0\n",
    "favfoods=[]\n",
    "while(x<3):\n",
    "    foodinput=input(\"Enter your favourit food : \")\n",
    "    favfoods.append(foodinput)\n",
    "    x+=1\n",
    "print(\"\\n\\n\",favfoods)"
   ]
  },
  {
   "cell_type": "code",
   "execution_count": 21,
   "metadata": {},
   "outputs": [
    {
     "name": "stdout",
     "output_type": "stream",
     "text": [
      "Enter your favourit food (or press 'Q' or 'q' to finish list) : biryani\n",
      "Enter your favourit food (or press 'Q' or 'q' to finish list) : haleem\n",
      "Enter your favourit food (or press 'Q' or 'q' to finish list) : q\n",
      "\n",
      "\n",
      " ['biryani', 'haleem']\n"
     ]
    }
   ],
   "source": [
    "# any person may have less or more than 3 favourite foods\n",
    "# Unlike for loop, while loop alows user to control no of iterations\n",
    "\n",
    "flag=True\n",
    "favfoods=[]\n",
    "\n",
    "while flag:\n",
    "    foodinput=input(\"Enter your favourit food (or press 'Q' or 'q' to finish list) : \")\n",
    "    if foodinput==\"Q\" or foodinput==\"q\":\n",
    "        flag=False\n",
    "    else:\n",
    "        favfoods.append(foodinput)\n",
    "print(\"\\n\\n\",favfoods)"
   ]
  },
  {
   "cell_type": "code",
   "execution_count": null,
   "metadata": {},
   "outputs": [],
   "source": []
  }
 ],
 "metadata": {
  "kernelspec": {
   "display_name": "Python 3",
   "language": "python",
   "name": "python3"
  },
  "language_info": {
   "codemirror_mode": {
    "name": "ipython",
    "version": 3
   },
   "file_extension": ".py",
   "mimetype": "text/x-python",
   "name": "python",
   "nbconvert_exporter": "python",
   "pygments_lexer": "ipython3",
   "version": "3.7.4"
  }
 },
 "nbformat": 4,
 "nbformat_minor": 2
}
