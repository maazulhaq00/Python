{
 "cells": [
  {
   "cell_type": "markdown",
   "metadata": {},
   "source": [
    "# LIST & LIST OPERATIONS"
   ]
  },
  {
   "cell_type": "code",
   "execution_count": 1,
   "metadata": {},
   "outputs": [],
   "source": [
    "alist = ['maaz','ali','asad']\n",
    "#index     0      1      3 \n",
    "# indexes starts from 0\n",
    "# the index of nth element is n-1\n"
   ]
  },
  {
   "cell_type": "code",
   "execution_count": 2,
   "metadata": {},
   "outputs": [
    {
     "data": {
      "text/plain": [
       "['maaz', 'ali', 'asad']"
      ]
     },
     "execution_count": 2,
     "metadata": {},
     "output_type": "execute_result"
    }
   ],
   "source": [
    "alist"
   ]
  },
  {
   "cell_type": "code",
   "execution_count": 3,
   "metadata": {},
   "outputs": [
    {
     "name": "stdout",
     "output_type": "stream",
     "text": [
      "['maaz', 'ali', 'asad']\n"
     ]
    }
   ],
   "source": [
    "print(alist)"
   ]
  },
  {
   "cell_type": "code",
   "execution_count": 4,
   "metadata": {},
   "outputs": [],
   "source": [
    "city1 = \"khi\"\n",
    "city2 = \"isl\"\n",
    "city3 = \"lhr\"\n",
    "city4 = \"multan\"\n",
    "\n",
    "cities = ['khi','isl','lhr','multan']\n",
    "\n",
    "# list redues number of variable in pgm\n",
    "# list contains sequence of values (not single value)\n"
   ]
  },
  {
   "cell_type": "code",
   "execution_count": 5,
   "metadata": {},
   "outputs": [
    {
     "data": {
      "text/plain": [
       "'ali'"
      ]
     },
     "execution_count": 5,
     "metadata": {},
     "output_type": "execute_result"
    }
   ],
   "source": [
    "# how to acess the members\n",
    "\n",
    "alist[1]"
   ]
  },
  {
   "cell_type": "code",
   "execution_count": 7,
   "metadata": {},
   "outputs": [
    {
     "data": {
      "text/plain": [
       "'multan'"
      ]
     },
     "execution_count": 7,
     "metadata": {},
     "output_type": "execute_result"
    }
   ],
   "source": [
    "# acessing list city \n",
    "\n",
    "cities[3]"
   ]
  },
  {
   "cell_type": "code",
   "execution_count": 4,
   "metadata": {},
   "outputs": [
    {
     "data": {
      "text/plain": [
       "0"
      ]
     },
     "execution_count": 4,
     "metadata": {},
     "output_type": "execute_result"
    }
   ],
   "source": [
    "# length of list\n",
    "\n",
    "fruits=[]           # empty list\n",
    "len(fruits)"
   ]
  },
  {
   "cell_type": "code",
   "execution_count": 9,
   "metadata": {},
   "outputs": [
    {
     "name": "stdout",
     "output_type": "stream",
     "text": [
      "3\n"
     ]
    }
   ],
   "source": [
    "print(len(alist))"
   ]
  },
  {
   "cell_type": "code",
   "execution_count": 10,
   "metadata": {},
   "outputs": [
    {
     "name": "stdout",
     "output_type": "stream",
     "text": [
      "leght of list cities is  4\n"
     ]
    }
   ],
   "source": [
    "l= len(cities)\n",
    "print(\"leght of list cities is \",l)"
   ]
  },
  {
   "cell_type": "code",
   "execution_count": 5,
   "metadata": {},
   "outputs": [
    {
     "data": {
      "text/plain": [
       "['apple']"
      ]
     },
     "execution_count": 5,
     "metadata": {},
     "output_type": "execute_result"
    }
   ],
   "source": [
    "# adding (insert) an element at the end a list {append()}\n",
    "\n",
    "fruits.append(\"apple\")\n",
    "fruits\n"
   ]
  },
  {
   "cell_type": "code",
   "execution_count": 6,
   "metadata": {},
   "outputs": [
    {
     "data": {
      "text/plain": [
       "['apple', 'orange']"
      ]
     },
     "execution_count": 6,
     "metadata": {},
     "output_type": "execute_result"
    }
   ],
   "source": [
    "\n",
    "fruits.append(\"orange\")\n",
    "fruits\n"
   ]
  },
  {
   "cell_type": "code",
   "execution_count": 7,
   "metadata": {},
   "outputs": [
    {
     "name": "stdout",
     "output_type": "stream",
     "text": [
      "['apple', 'orange', 'mange']\n"
     ]
    }
   ],
   "source": [
    "\n",
    "fruits.append(\"mange\")\n",
    "print(fruits)"
   ]
  },
  {
   "cell_type": "code",
   "execution_count": 8,
   "metadata": {},
   "outputs": [
    {
     "name": "stdout",
     "output_type": "stream",
     "text": [
      "['apple', 'orange', 'mange', 'pineapple']\n"
     ]
    }
   ],
   "source": [
    "# adding (insert) an element at the provided index {insert()}\n",
    "\n",
    "fruits.insert(3,\"pineapple\")  # insert item pineapple at index 3 in list fruits\n",
    "print(fruits)\n"
   ]
  },
  {
   "cell_type": "code",
   "execution_count": 9,
   "metadata": {},
   "outputs": [
    {
     "data": {
      "text/plain": [
       "['apple', 'orange', 'mange', 'pineapple', 'cherry', 'berry']"
      ]
     },
     "execution_count": 9,
     "metadata": {},
     "output_type": "execute_result"
    }
   ],
   "source": [
    "#append other list in the end of previous list {extend()}\n",
    "\n",
    "fruits.extend(['cherry','berry'])\n",
    "fruits"
   ]
  },
  {
   "cell_type": "code",
   "execution_count": 10,
   "metadata": {},
   "outputs": [
    {
     "name": "stdout",
     "output_type": "stream",
     "text": [
      "['apple', 'orange', 'mange', 'pineapple', 'cherry', 'berry', 'watermelon', 'grapes', 'gava']\n"
     ]
    }
   ],
   "source": [
    "\n",
    "other_fruits=['watermelon','grapes','gava']\n",
    "\n",
    "fruits.extend(other_fruits)\n",
    "print(fruits)"
   ]
  },
  {
   "cell_type": "code",
   "execution_count": 11,
   "metadata": {},
   "outputs": [
    {
     "data": {
      "text/plain": [
       "1"
      ]
     },
     "execution_count": 11,
     "metadata": {},
     "output_type": "execute_result"
    }
   ],
   "source": [
    "#counting number of occurrences of an item or value\n",
    "\n",
    "fruits.count(\"orange\")"
   ]
  },
  {
   "cell_type": "code",
   "execution_count": 12,
   "metadata": {},
   "outputs": [
    {
     "name": "stdout",
     "output_type": "stream",
     "text": [
      "1\n"
     ]
    }
   ],
   "source": [
    "num=fruits.count(\"apple\")\n",
    "print(num)"
   ]
  },
  {
   "cell_type": "code",
   "execution_count": 13,
   "metadata": {},
   "outputs": [
    {
     "data": {
      "text/plain": [
       "1"
      ]
     },
     "execution_count": 13,
     "metadata": {},
     "output_type": "execute_result"
    }
   ],
   "source": [
    "#first index of an item or value\n",
    "\n",
    "fruits.index(\"orange\")\n"
   ]
  },
  {
   "cell_type": "code",
   "execution_count": 14,
   "metadata": {},
   "outputs": [
    {
     "name": "stdout",
     "output_type": "stream",
     "text": [
      "0\n"
     ]
    }
   ],
   "source": [
    "i=fruits.index(\"apple\")\n",
    "print(i)"
   ]
  },
  {
   "cell_type": "code",
   "execution_count": 30,
   "metadata": {},
   "outputs": [
    {
     "data": {
      "text/plain": [
       "[]"
      ]
     },
     "execution_count": 30,
     "metadata": {},
     "output_type": "execute_result"
    }
   ],
   "source": [
    "#delete all the elements of the list (clear list)\n",
    "\n",
    "fruits.clear()\n",
    "fruits"
   ]
  },
  {
   "cell_type": "code",
   "execution_count": 31,
   "metadata": {},
   "outputs": [
    {
     "data": {
      "text/plain": [
       "['apple', 'orange', 'pineapple', 'mange']"
      ]
     },
     "execution_count": 31,
     "metadata": {},
     "output_type": "execute_result"
    }
   ],
   "source": [
    "fruits.extend(['apple', 'orange', 'pineapple', 'mange'])\n",
    "fruits"
   ]
  },
  {
   "cell_type": "code",
   "execution_count": 32,
   "metadata": {},
   "outputs": [],
   "source": [
    "# copy a list to another list\n",
    "# copy by value\n",
    "\n",
    "fruits2=fruits.copy()\n",
    "\n",
    "# copy by reference\n",
    "\n",
    "fruits3=fruits\n"
   ]
  },
  {
   "cell_type": "code",
   "execution_count": 33,
   "metadata": {},
   "outputs": [
    {
     "name": "stdout",
     "output_type": "stream",
     "text": [
      "2rd list ['apple', 'orange', 'pineapple', 'mange']\n",
      "3rd list ['apple', 'orange', 'pineapple', 'mange']\n"
     ]
    }
   ],
   "source": [
    "print(\"2rd list\",fruits2)    #by value copy of 1st list\n",
    "print(\"3rd list\",fruits3)    #by reference copy of 1st list\n"
   ]
  },
  {
   "cell_type": "code",
   "execution_count": 34,
   "metadata": {},
   "outputs": [
    {
     "name": "stdout",
     "output_type": "stream",
     "text": [
      "1st list ['apple', 'orange', 'pineapple', 'mange', 'new fruit']\n",
      "2rd list ['apple', 'orange', 'pineapple', 'mange']\n",
      "3rd list ['apple', 'orange', 'pineapple', 'mange', 'new fruit']\n"
     ]
    }
   ],
   "source": [
    "fruits.append(\"new fruit\") #changing 1st list\n",
    "\n",
    "# doesnot change list 2 beacause it is not reference to list 1\n",
    "# change list 3 because fruits3 is another name of list fruits\n",
    "\n",
    "print(\"1st list\",fruits)\n",
    "print(\"2rd list\",fruits2)\n",
    "print(\"3rd list\",fruits3) "
   ]
  },
  {
   "cell_type": "code",
   "execution_count": 35,
   "metadata": {},
   "outputs": [
    {
     "name": "stdout",
     "output_type": "stream",
     "text": [
      "['apple', 'orange', 'pineapple', 'mange', 'new fruit']\n",
      "deleting element at index 1\n",
      "['apple', 'pineapple', 'mange', 'new fruit']\n"
     ]
    }
   ],
   "source": [
    "# removing an item from the list\n",
    "#using del\n",
    "print(fruits)\n",
    "print(\"deleting element at index 1\")\n",
    "\n",
    "del fruits[1]\n",
    "print(fruits)"
   ]
  },
  {
   "cell_type": "code",
   "execution_count": 36,
   "metadata": {},
   "outputs": [
    {
     "name": "stdout",
     "output_type": "stream",
     "text": [
      "['lion', 'cat', 'lion', 'duck', 'duck', 'panda', 'bee', 'panda', 'lion', 'duck']\n",
      "deleting duck from the list ....\n",
      "['lion', 'cat', 'lion', 'duck', 'panda', 'bee', 'panda', 'lion', 'duck']\n"
     ]
    }
   ],
   "source": [
    "# removing an item from the list\n",
    "#using remove()\n",
    "animals=['lion','cat','lion','duck','duck','panda','bee','panda','lion','duck']\n",
    "print(animals)\n",
    "\n",
    "print(\"deleting duck from the list ....\")\n",
    "animals.remove(\"duck\")\n",
    "print(animals)"
   ]
  },
  {
   "cell_type": "code",
   "execution_count": 37,
   "metadata": {},
   "outputs": [
    {
     "name": "stdout",
     "output_type": "stream",
     "text": [
      "Popped flower is : jesmine\n",
      "The remaining flowers are ['lilly', 'rose', 'sunflower', 'tulip']\n"
     ]
    }
   ],
   "source": [
    "# removing an item from the list\n",
    "#using pop()\n",
    "\n",
    "flowers=['lilly','rose','sunflower','tulip','jesmine']\n",
    "popped_flower=flowers.pop()  #by default last item is removed and returned by by pop() function\n",
    "\n",
    "print(f\"Popped flower is : {popped_flower}\")\n",
    "print(f\"The remaining flowers are {flowers}\")\n"
   ]
  },
  {
   "cell_type": "code",
   "execution_count": 38,
   "metadata": {},
   "outputs": [
    {
     "name": "stdout",
     "output_type": "stream",
     "text": [
      "Popped flower is : sunflower\n",
      "The remaining flowers are ['lilly', 'rose', 'tulip']\n"
     ]
    }
   ],
   "source": [
    "popped_flower=flowers.pop(2)  #item at index 2 is removed and returned by by pop() function\n",
    "\n",
    "print(f\"Popped flower is : {popped_flower}\")\n",
    "print(f\"The remaining flowers are {flowers}\")\n"
   ]
  },
  {
   "cell_type": "code",
   "execution_count": 44,
   "metadata": {},
   "outputs": [
    {
     "name": "stdout",
     "output_type": "stream",
     "text": [
      "Lists before sorting ..\n",
      "[1, 3, 5, 8, 0, 2, 4, 7, 6]\n",
      "['lilly', 'rose', 'tulip']\n",
      "Lists after ascending sorting ..\n",
      "[0, 1, 2, 3, 4, 5, 6, 7, 8]\n",
      "['lilly', 'rose', 'tulip']\n"
     ]
    }
   ],
   "source": [
    "# sort()\n",
    "numbers1=[1,3,5,8,0,2,4,7,6]\n",
    "\n",
    "print(\"Lists before sorting ..\")\n",
    "print(numbers1)\n",
    "print(flowers)\n",
    "\n",
    "numbers1.sort()\n",
    "flowers.sort()\n",
    "\n",
    "print(\"Lists after ascending sorting ..\")\n",
    "print(numbers1)\n",
    "print(flowers)\n"
   ]
  },
  {
   "cell_type": "code",
   "execution_count": 46,
   "metadata": {},
   "outputs": [
    {
     "name": "stdout",
     "output_type": "stream",
     "text": [
      "Lists before sorting ..\n",
      "[1, 3, 5, 8, 0, 2, 4, 7, 6]\n",
      "['panda', 'panda', 'lion', 'lion', 'lion', 'duck', 'duck', 'cat', 'bee']\n",
      "Lists after descending sorting ..\n",
      "[8, 7, 6, 5, 4, 3, 2, 1, 0]\n",
      "['panda', 'panda', 'lion', 'lion', 'lion', 'duck', 'duck', 'cat', 'bee']\n"
     ]
    }
   ],
   "source": [
    "# sort() with reverse is true  (descending order)\n",
    "numbers2=[1,3,5,8,0,2,4,7,6]\n",
    "\n",
    "print(\"Lists before sorting ..\")\n",
    "print(numbers2)\n",
    "print(animals)\n",
    "\n",
    "numbers2.sort(reverse=True)\n",
    "animals.sort(reverse=True)\n",
    "\n",
    "print(\"Lists after descending sorting ..\")\n",
    "print(numbers2)\n",
    "print(animals)\n"
   ]
  },
  {
   "cell_type": "code",
   "execution_count": 47,
   "metadata": {},
   "outputs": [
    {
     "name": "stdout",
     "output_type": "stream",
     "text": [
      "Lists is ..\n",
      "[1, 3, 5, 8, 0, 2, 4, 7, 6]\n",
      "reverse of the list is:\n",
      "[6, 7, 4, 2, 0, 8, 5, 3, 1]\n"
     ]
    }
   ],
   "source": [
    "# reverse()\n",
    "n=[1,3,5,8,0,2,4,7,6]\n",
    "\n",
    "print(\"Lists is ..\")\n",
    "print(n)\n",
    "\n",
    "n.reverse()\n",
    "\n",
    "print(\"reverse of the list is:\")\n",
    "print(n)"
   ]
  },
  {
   "cell_type": "markdown",
   "metadata": {},
   "source": [
    "### Slicing of list"
   ]
  },
  {
   "cell_type": "code",
   "execution_count": 1,
   "metadata": {},
   "outputs": [],
   "source": [
    "\n",
    "#index     -5      -4       -3      -2      -1\n",
    "\n",
    "students=['ali','faisal','saleem','hamza','kashif']\n",
    "\n",
    "#index     0        1       2        3       4"
   ]
  },
  {
   "cell_type": "code",
   "execution_count": 3,
   "metadata": {},
   "outputs": [
    {
     "name": "stdout",
     "output_type": "stream",
     "text": [
      "ali\n",
      "ali\n"
     ]
    }
   ],
   "source": [
    " \n",
    "print(students[0])\n",
    "print(students[-5])\n",
    "\n",
    "#index of first element is 0 or -n  (n is number of items in the list)"
   ]
  },
  {
   "cell_type": "code",
   "execution_count": 4,
   "metadata": {},
   "outputs": [
    {
     "name": "stdout",
     "output_type": "stream",
     "text": [
      "kashif\n",
      "kashif\n"
     ]
    }
   ],
   "source": [
    "print(students[4])\n",
    "print(students[-1])\n",
    "\n",
    "#index of last element is n-1 or -1  (n is number of items in the list)"
   ]
  },
  {
   "cell_type": "code",
   "execution_count": 5,
   "metadata": {},
   "outputs": [
    {
     "data": {
      "text/plain": [
       "['faisal', 'saleem']"
      ]
     },
     "execution_count": 5,
     "metadata": {},
     "output_type": "execute_result"
    }
   ],
   "source": [
    "students[1:3]                  # list slice contains element of index 1,2 "
   ]
  },
  {
   "cell_type": "code",
   "execution_count": 6,
   "metadata": {},
   "outputs": [
    {
     "data": {
      "text/plain": [
       "['faisal', 'saleem']"
      ]
     },
     "execution_count": 6,
     "metadata": {},
     "output_type": "execute_result"
    }
   ],
   "source": [
    "students[-4:-2]                  # list slice contains element of index -4,-3"
   ]
  },
  {
   "cell_type": "code",
   "execution_count": 7,
   "metadata": {},
   "outputs": [
    {
     "data": {
      "text/plain": [
       "['hamza', 'kashif']"
      ]
     },
     "execution_count": 7,
     "metadata": {},
     "output_type": "execute_result"
    }
   ],
   "source": [
    "students[3:]                  # list slice contains element of index 3 to end of list"
   ]
  },
  {
   "cell_type": "code",
   "execution_count": 8,
   "metadata": {},
   "outputs": [
    {
     "data": {
      "text/plain": [
       "['ali', 'faisal', 'saleem']"
      ]
     },
     "execution_count": 8,
     "metadata": {},
     "output_type": "execute_result"
    }
   ],
   "source": [
    "students[:3]                  # list slice contains element from start of list to index 2 "
   ]
  },
  {
   "cell_type": "code",
   "execution_count": 9,
   "metadata": {},
   "outputs": [
    {
     "data": {
      "text/plain": [
       "['ali', 'faisal', 'saleem', 'hamza', 'kashif']"
      ]
     },
     "execution_count": 9,
     "metadata": {},
     "output_type": "execute_result"
    }
   ],
   "source": [
    "students[:]                  # slice the whole list"
   ]
  },
  {
   "cell_type": "code",
   "execution_count": 10,
   "metadata": {},
   "outputs": [
    {
     "data": {
      "text/plain": [
       "['saleem', 'hamza']"
      ]
     },
     "execution_count": 10,
     "metadata": {},
     "output_type": "execute_result"
    }
   ],
   "source": [
    "students[2:-1]                  # list slice contains element of index 2,3,...,2nd last element\n",
    "                                # because -1 is index of last element"
   ]
  },
  {
   "cell_type": "code",
   "execution_count": 11,
   "metadata": {},
   "outputs": [
    {
     "data": {
      "text/plain": [
       "[]"
      ]
     },
     "execution_count": 11,
     "metadata": {},
     "output_type": "execute_result"
    }
   ],
   "source": [
    "students[2:-5]                  # empty list b/c list moves forward not in circle"
   ]
  },
  {
   "cell_type": "code",
   "execution_count": 13,
   "metadata": {},
   "outputs": [
    {
     "data": {
      "text/plain": [
       "[1, 2, 3, 4, 5, 6, 7, 8, 9, 10, 11, 12, 13, 14, 15, 16]"
      ]
     },
     "execution_count": 13,
     "metadata": {},
     "output_type": "execute_result"
    }
   ],
   "source": [
    "# listname[start:end+1:step]\n",
    "\n",
    "nums=[1,2,3,4,5,6,7,8,9,10,11,12,13,14,15,16,17,18,19,20]\n",
    "nums[0:16:1]                  # list slice contains element between index 0-16 with 1 step"
   ]
  },
  {
   "cell_type": "code",
   "execution_count": 14,
   "metadata": {},
   "outputs": [
    {
     "data": {
      "text/plain": [
       "[1, 3, 5, 7, 9, 11, 13, 15]"
      ]
     },
     "execution_count": 14,
     "metadata": {},
     "output_type": "execute_result"
    }
   ],
   "source": [
    "\n",
    "nums[0:16:2]                  # list slice contains element between index 0-16 with 2 step"
   ]
  },
  {
   "cell_type": "code",
   "execution_count": 15,
   "metadata": {},
   "outputs": [
    {
     "data": {
      "text/plain": [
       "[1, 6, 11, 16]"
      ]
     },
     "execution_count": 15,
     "metadata": {},
     "output_type": "execute_result"
    }
   ],
   "source": [
    "\n",
    "nums[::5]                  # list slice contains element between index 0-(n-1) with 5 step"
   ]
  },
  {
   "cell_type": "code",
   "execution_count": 17,
   "metadata": {},
   "outputs": [
    {
     "name": "stdout",
     "output_type": "stream",
     "text": [
      "[12, 21, 63, 45, 15, 62, 73]\n",
      "Deleting element at index 2 and 3\n",
      "[12, 21, 15, 62, 73]\n"
     ]
    }
   ],
   "source": [
    "# deleting multiple items from list\n",
    "\n",
    "arr=[12,21,63,45,15,62,73]\n",
    "print(arr)\n",
    "del arr[2:4]\n",
    "\n",
    "print(f\"Deleting element at index 2 and 3\\n{arr}\")\n"
   ]
  },
  {
   "cell_type": "code",
   "execution_count": 18,
   "metadata": {},
   "outputs": [
    {
     "data": {
      "text/plain": [
       "15"
      ]
     },
     "execution_count": 18,
     "metadata": {},
     "output_type": "execute_result"
    }
   ],
   "source": [
    "arr[2]"
   ]
  },
  {
   "cell_type": "code",
   "execution_count": 1,
   "metadata": {},
   "outputs": [
    {
     "data": {
      "text/plain": [
       "3"
      ]
     },
     "execution_count": 1,
     "metadata": {},
     "output_type": "execute_result"
    }
   ],
   "source": [
    "# Search in list\n",
    "# index()\n",
    "# index() returns the index of element to be searched if found in list\n",
    "fruit = ['apple', 'banana', 'orange', 'lime']\n",
    "favourite = 'lime'\n",
    "\n",
    "fruit.index(favourite)"
   ]
  },
  {
   "cell_type": "code",
   "execution_count": 3,
   "metadata": {},
   "outputs": [
    {
     "ename": "ValueError",
     "evalue": "'mango' is not in list",
     "output_type": "error",
     "traceback": [
      "\u001b[1;31m---------------------------------------------------------------------------\u001b[0m",
      "\u001b[1;31mValueError\u001b[0m                                Traceback (most recent call last)",
      "\u001b[1;32m<ipython-input-3-cc7f44c4a3a1>\u001b[0m in \u001b[0;36m<module>\u001b[1;34m\u001b[0m\n\u001b[0;32m      3\u001b[0m \u001b[1;31m# index() returns the index of element to be searched\u001b[0m\u001b[1;33m\u001b[0m\u001b[1;33m\u001b[0m\u001b[1;33m\u001b[0m\u001b[0m\n\u001b[0;32m      4\u001b[0m \u001b[1;33m\u001b[0m\u001b[0m\n\u001b[1;32m----> 5\u001b[1;33m \u001b[0mfruit\u001b[0m\u001b[1;33m.\u001b[0m\u001b[0mindex\u001b[0m\u001b[1;33m(\u001b[0m\u001b[1;34m\"mango\"\u001b[0m\u001b[1;33m)\u001b[0m\u001b[1;33m\u001b[0m\u001b[1;33m\u001b[0m\u001b[0m\n\u001b[0m",
      "\u001b[1;31mValueError\u001b[0m: 'mango' is not in list"
     ]
    }
   ],
   "source": [
    "# Search in list\n",
    "# index()\n",
    "# index() returns the error if element is not found\n",
    "\n",
    "fruit.index(\"mango\")"
   ]
  },
  {
   "cell_type": "code",
   "execution_count": 4,
   "metadata": {},
   "outputs": [
    {
     "data": {
      "text/plain": [
       "True"
      ]
     },
     "execution_count": 4,
     "metadata": {},
     "output_type": "execute_result"
    }
   ],
   "source": [
    "# Search in list\n",
    "# in operator\n",
    "# in operator returns boolean value (True) if searched element is found otherwise returns (False) \n",
    "fruit = ['apple', 'banana', 'orange', 'lime']\n",
    "favourite = 'lime'\n",
    "\n",
    "favourite in fruit"
   ]
  },
  {
   "cell_type": "code",
   "execution_count": 5,
   "metadata": {},
   "outputs": [
    {
     "name": "stdout",
     "output_type": "stream",
     "text": [
      "found!\n"
     ]
    }
   ],
   "source": [
    "# in operator\n",
    "# in operator returns boolean value (True) if searched element is found otherwise returns (False) \n",
    "\n",
    "if \"apple\" in fruit:\n",
    "    print('found!')\n",
    "else:\n",
    "    print('not found!')"
   ]
  },
  {
   "cell_type": "code",
   "execution_count": 6,
   "metadata": {},
   "outputs": [
    {
     "name": "stdout",
     "output_type": "stream",
     "text": [
      "not found!\n"
     ]
    }
   ],
   "source": [
    "# in operator\n",
    "# in operator returns boolean value (True) if searched element is found otherwise returns (False) \n",
    "\n",
    "if \"mango\" in fruit:\n",
    "    print('found!')\n",
    "else:\n",
    "    print('not found!')"
   ]
  },
  {
   "cell_type": "code",
   "execution_count": 5,
   "metadata": {},
   "outputs": [
    {
     "name": "stdout",
     "output_type": "stream",
     "text": [
      "(1, 2, 3)\n"
     ]
    }
   ],
   "source": [
    "# List of tupples\n",
    "List = [(1,2,3),('a','b','c'),(7.5,'8','anaconda')]\n",
    "\n",
    "print(List[0])"
   ]
  },
  {
   "cell_type": "code",
   "execution_count": 2,
   "metadata": {},
   "outputs": [
    {
     "name": "stdout",
     "output_type": "stream",
     "text": [
      "('a', 'b', 'c')\n",
      "(7.5, '8', 'anaconda')\n"
     ]
    }
   ],
   "source": [
    "print(List[1])\n",
    "print(List[2])"
   ]
  },
  {
   "cell_type": "code",
   "execution_count": 3,
   "metadata": {},
   "outputs": [
    {
     "data": {
      "text/plain": [
       "[(1, 2, 3), ('a', 'b', 'c')]"
      ]
     },
     "execution_count": 3,
     "metadata": {},
     "output_type": "execute_result"
    }
   ],
   "source": [
    "List[0:2]"
   ]
  },
  {
   "cell_type": "code",
   "execution_count": 4,
   "metadata": {},
   "outputs": [
    {
     "data": {
      "text/plain": [
       "[(1, 2, 3), ('a', 'b', 'c'), (7.5, '8', 'anaconda')]"
      ]
     },
     "execution_count": 4,
     "metadata": {},
     "output_type": "execute_result"
    }
   ],
   "source": [
    "List"
   ]
  },
  {
   "cell_type": "code",
   "execution_count": null,
   "metadata": {},
   "outputs": [],
   "source": []
  }
 ],
 "metadata": {
  "kernelspec": {
   "display_name": "Python 3",
   "language": "python",
   "name": "python3"
  },
  "language_info": {
   "codemirror_mode": {
    "name": "ipython",
    "version": 3
   },
   "file_extension": ".py",
   "mimetype": "text/x-python",
   "name": "python",
   "nbconvert_exporter": "python",
   "pygments_lexer": "ipython3",
   "version": "3.7.4"
  }
 },
 "nbformat": 4,
 "nbformat_minor": 2
}
