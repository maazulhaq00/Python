{
 "cells": [
  {
   "cell_type": "markdown",
   "metadata": {},
   "source": [
    "# list of lists"
   ]
  },
  {
   "cell_type": "code",
   "execution_count": 2,
   "metadata": {},
   "outputs": [
    {
     "name": "stdout",
     "output_type": "stream",
     "text": [
      "[['men', 'women'], ['whales', 'dolphines', 'sea horses'], ['elephants', 'lions', 'zebra']]\n",
      "['whales', 'dolphines', 'sea horses']\n",
      "women\n"
     ]
    }
   ],
   "source": [
    "species=[['men','women'],['whales','dolphines','sea horses'],['elephants','lions','zebra']]\n",
    "\n",
    "print(species)              # access list of lists\n",
    "print(species[1])           # access elements of list (ie inner list)\n",
    "print(species[0][1])        # access elements of inner list (ie string)"
   ]
  },
  {
   "cell_type": "markdown",
   "metadata": {},
   "source": [
    "# list of tuples"
   ]
  },
  {
   "cell_type": "code",
   "execution_count": 3,
   "metadata": {},
   "outputs": [
    {
     "name": "stdout",
     "output_type": "stream",
     "text": [
      "[(1, 2, 3, 4), (1.0, 3.45, 7.8, 4.33)]\n",
      "(1.0, 3.45, 7.8, 4.33)\n",
      "4\n"
     ]
    }
   ],
   "source": [
    "realnos=[(1,2,3,4),(1.0,3.45,7.8,4.33)]\n",
    "\n",
    "print(realnos)              # access list of tuples\n",
    "print(realnos[1])           # access elements of list (ie tuples)\n",
    "print(realnos[0][3])        # access elements of inner tuple (ie int or float)"
   ]
  },
  {
   "cell_type": "markdown",
   "metadata": {},
   "source": [
    "# list of dictionaries"
   ]
  },
  {
   "cell_type": "code",
   "execution_count": 6,
   "metadata": {},
   "outputs": [
    {
     "data": {
      "text/plain": [
       "'Maaz'"
      ]
     },
     "execution_count": 6,
     "metadata": {},
     "output_type": "execute_result"
    }
   ],
   "source": [
    "students=[]      \n",
    "students.append({'Name': 'Maaz', 'Age': 20, 'Gender': 'M'})\n",
    "students.append({'Name': 'Ali', 'Age': 18, 'Gender': 'M'})\n",
    "\n",
    "#student is list of dictionaries\n",
    "\n",
    "students[0]['Name'] "
   ]
  },
  {
   "cell_type": "markdown",
   "metadata": {},
   "source": [
    "# Dictionary of lists"
   ]
  },
  {
   "cell_type": "code",
   "execution_count": 7,
   "metadata": {},
   "outputs": [
    {
     "data": {
      "text/plain": [
       "'Muhammad'"
      ]
     },
     "execution_count": 7,
     "metadata": {},
     "output_type": "execute_result"
    }
   ],
   "source": [
    "person={'Name': ['Maaz','ali','Muhammad'], 'Age': [20,18,13]}\n",
    "\n",
    "person['Name'][2]"
   ]
  },
  {
   "cell_type": "markdown",
   "metadata": {},
   "source": [
    "# Dictionary of tuples"
   ]
  },
  {
   "cell_type": "code",
   "execution_count": 9,
   "metadata": {},
   "outputs": [
    {
     "data": {
      "text/plain": [
       "'camel'"
      ]
     },
     "execution_count": 9,
     "metadata": {},
     "output_type": "execute_result"
    }
   ],
   "source": [
    "d_o_t = {'animals': ('cow','horse','camel'), 'birds': ('peacock','hen','duck')}\n",
    "\n",
    "d_o_t['animals'][2]"
   ]
  },
  {
   "cell_type": "markdown",
   "metadata": {},
   "source": [
    "# Dictionary of Dictionaries"
   ]
  },
  {
   "cell_type": "code",
   "execution_count": 10,
   "metadata": {
    "scrolled": true
   },
   "outputs": [
    {
     "data": {
      "text/plain": [
       "10"
      ]
     },
     "execution_count": 10,
     "metadata": {},
     "output_type": "execute_result"
    }
   ],
   "source": [
    "person={'Name': 'Ali', 'children':{'Akber':{'Age':10,'Class':6},'Alina':{'Age':8,'Class':4}}}\n",
    "\n",
    "person['children']['Akber']['Age']"
   ]
  },
  {
   "cell_type": "markdown",
   "metadata": {},
   "source": [
    "# tuple of lists           :         DataStructureName=([],[],[])\n",
    "\n",
    "# tuple of dictionaries    :         DataStructureName=({},{},{})\n",
    "\n",
    "# tuple of tuples          :         DataStructureName=((),(),())"
   ]
  },
  {
   "cell_type": "code",
   "execution_count": null,
   "metadata": {},
   "outputs": [],
   "source": []
  }
 ],
 "metadata": {
  "kernelspec": {
   "display_name": "Python 3",
   "language": "python",
   "name": "python3"
  },
  "language_info": {
   "codemirror_mode": {
    "name": "ipython",
    "version": 3
   },
   "file_extension": ".py",
   "mimetype": "text/x-python",
   "name": "python",
   "nbconvert_exporter": "python",
   "pygments_lexer": "ipython3",
   "version": "3.7.4"
  }
 },
 "nbformat": 4,
 "nbformat_minor": 2
}
