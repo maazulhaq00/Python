{
 "cells": [
  {
   "cell_type": "markdown",
   "metadata": {},
   "source": [
    "# math operators"
   ]
  },
  {
   "cell_type": "code",
   "execution_count": 1,
   "metadata": {},
   "outputs": [],
   "source": [
    "#math operators { + , - , * , /}\n",
    "\n",
    "a=2\n",
    "b=4\n",
    "\n",
    "c=a+b         # sum of a and b\n",
    "d=a-b         # subract b from a\n",
    "e=a*b         # multiply a and b\n",
    "f=a/b         #default divison (the resultant of int/int is float)\n",
    "i=a//b        # the resultant of int//int is int (can cause data loss)\n"
   ]
  },
  {
   "cell_type": "code",
   "execution_count": 5,
   "metadata": {},
   "outputs": [
    {
     "name": "stdout",
     "output_type": "stream",
     "text": [
      " first is 2 second is 4\n",
      " sum is             6\n",
      " difference is      -2\n",
      " product is         8\n",
      " float division is  0.5\n",
      " int division is    0\n",
      "\n"
     ]
    }
   ],
   "source": [
    "\n",
    "print(\" first is\",a,\"second is\",b)\n",
    "print(\" sum is            \",c)\n",
    "print(\" difference is     \",d)\n",
    "print(\" product is        \",e)\n",
    "print(\" float division is \",f)\n",
    "print(\" int division is   \",i,end=\"\\n\\n\")\n"
   ]
  },
  {
   "cell_type": "code",
   "execution_count": 6,
   "metadata": {},
   "outputs": [
    {
     "name": "stdout",
     "output_type": "stream",
     "text": [
      "7.6\n"
     ]
    }
   ],
   "source": [
    "print(2+5+0.6)"
   ]
  },
  {
   "cell_type": "code",
   "execution_count": 7,
   "metadata": {},
   "outputs": [
    {
     "name": "stdout",
     "output_type": "stream",
     "text": [
      "sum is 3 diff is -1\n"
     ]
    }
   ],
   "source": [
    "num1=1\n",
    "num2=2\n",
    "print(\"sum is\",num1+num2,\"diff is\",num1-num2)"
   ]
  },
  {
   "cell_type": "code",
   "execution_count": 8,
   "metadata": {},
   "outputs": [
    {
     "name": "stdout",
     "output_type": "stream",
     "text": [
      "89.4\n"
     ]
    }
   ],
   "source": [
    "g = 100\n",
    "h = 10.6\n",
    "j = g-h    #implicit type conversion\n",
    "\n",
    "# 'j' will be float b\\c o\\p is in always in largest data type involve in the expression\n",
    "\n",
    "print(j)\n"
   ]
  },
  {
   "cell_type": "code",
   "execution_count": 9,
   "metadata": {},
   "outputs": [
    {
     "name": "stdout",
     "output_type": "stream",
     "text": [
      "89\n"
     ]
    }
   ],
   "source": [
    "print(int(j))         #explicit data type conversion"
   ]
  },
  {
   "cell_type": "code",
   "execution_count": 10,
   "metadata": {},
   "outputs": [
    {
     "name": "stdout",
     "output_type": "stream",
     "text": [
      "2345\n"
     ]
    }
   ],
   "source": [
    "# if '+' is placed between two string \n",
    "# it does not perform add but concatenate strings\n",
    "\n",
    "str1 = \"23\"\n",
    "str2 = \"45\"\n",
    "\n",
    "str3 = str1 + str2\n",
    "\n",
    "print(str3)\n"
   ]
  }
 ],
 "metadata": {
  "kernelspec": {
   "display_name": "Python 3",
   "language": "python",
   "name": "python3"
  },
  "language_info": {
   "codemirror_mode": {
    "name": "ipython",
    "version": 3
   },
   "file_extension": ".py",
   "mimetype": "text/x-python",
   "name": "python",
   "nbconvert_exporter": "python",
   "pygments_lexer": "ipython3",
   "version": "3.7.4"
  }
 },
 "nbformat": 4,
 "nbformat_minor": 2
}
