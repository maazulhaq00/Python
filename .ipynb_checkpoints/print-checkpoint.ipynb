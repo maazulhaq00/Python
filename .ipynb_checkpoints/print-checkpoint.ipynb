{
 "cells": [
  {
   "cell_type": "code",
   "execution_count": 1,
   "metadata": {},
   "outputs": [
    {
     "name": "stdout",
     "output_type": "stream",
     "text": [
      "1000\n"
     ]
    }
   ],
   "source": [
    "print(1000)              #prints int data"
   ]
  },
  {
   "cell_type": "code",
   "execution_count": 2,
   "metadata": {},
   "outputs": [
    {
     "name": "stdout",
     "output_type": "stream",
     "text": [
      "123 456\n"
     ]
    }
   ],
   "source": [
    "print(123,456)           #prints multiple arguments (datas) separated by \",\""
   ]
  },
  {
   "cell_type": "code",
   "execution_count": 3,
   "metadata": {},
   "outputs": [
    {
     "name": "stdout",
     "output_type": "stream",
     "text": [
      "python\n"
     ]
    }
   ],
   "source": [
    "print(\"python\")          #prints string type data"
   ]
  },
  {
   "cell_type": "code",
   "execution_count": 4,
   "metadata": {},
   "outputs": [
    {
     "name": "stdout",
     "output_type": "stream",
     "text": [
      "12\n"
     ]
    }
   ],
   "source": [
    "print(\"12\")             #prints string type data"
   ]
  },
  {
   "cell_type": "code",
   "execution_count": 6,
   "metadata": {},
   "outputs": [
    {
     "name": "stdout",
     "output_type": "stream",
     "text": [
      "1.0 2.3 4.0\n"
     ]
    }
   ],
   "source": [
    "print(1.0,2.3,4.0)      #prints floating point num"
   ]
  },
  {
   "cell_type": "code",
   "execution_count": 7,
   "metadata": {},
   "outputs": [
    {
     "name": "stdout",
     "output_type": "stream",
     "text": [
      "123Pakistan\n"
     ]
    }
   ],
   "source": [
    "print(\"123Pakistan\")    #prints alphanumeric string"
   ]
  },
  {
   "cell_type": "code",
   "execution_count": 8,
   "metadata": {},
   "outputs": [
    {
     "name": "stdout",
     "output_type": "stream",
     "text": [
      "\n"
     ]
    }
   ],
   "source": [
    "print()"
   ]
  },
  {
   "cell_type": "code",
   "execution_count": 9,
   "metadata": {},
   "outputs": [
    {
     "name": "stdout",
     "output_type": "stream",
     "text": [
      "apple mango orange 123\n"
     ]
    }
   ],
   "source": [
    "####  sep=' '  ####\n",
    "\n",
    "\n",
    "print(\"apple\",\"mango\",\"orange\",123)   #by default arguments separated by single space"
   ]
  },
  {
   "cell_type": "code",
   "execution_count": 11,
   "metadata": {},
   "outputs": [
    {
     "name": "stdout",
     "output_type": "stream",
     "text": [
      "applemangoorange123\n"
     ]
    }
   ],
   "source": [
    "print(\"apple\",\"mango\",\"orange\",123,sep=\"\")   #changing value of sep"
   ]
  },
  {
   "cell_type": "code",
   "execution_count": 12,
   "metadata": {},
   "outputs": [
    {
     "name": "stdout",
     "output_type": "stream",
     "text": [
      "apple##mango##orange##123\n"
     ]
    }
   ],
   "source": [
    "print(\"apple\",\"mango\",\"orange\",123,sep=\"##\")   #changing value of sep"
   ]
  },
  {
   "cell_type": "code",
   "execution_count": 13,
   "metadata": {},
   "outputs": [
    {
     "name": "stdout",
     "output_type": "stream",
     "text": [
      "apple imseparator mango imseparator orange imseparator 123\n"
     ]
    }
   ],
   "source": [
    "print(\"apple\",\"mango\",\"orange\",123,sep=\" imseparator \")   #changing value of sep"
   ]
  },
  {
   "cell_type": "code",
   "execution_count": 14,
   "metadata": {},
   "outputs": [
    {
     "name": "stdout",
     "output_type": "stream",
     "text": [
      "apple-mango-orange-123\n"
     ]
    }
   ],
   "source": [
    "print(\"apple\",\"mango\",\"orange\",123,sep=\"-\")   #changing value of sep"
   ]
  },
  {
   "cell_type": "code",
   "execution_count": 15,
   "metadata": {},
   "outputs": [
    {
     "name": "stdout",
     "output_type": "stream",
     "text": [
      "hello1\n",
      "hello2\n",
      "hello3\n"
     ]
    }
   ],
   "source": [
    "####  end='\\n'  ####\n",
    "\n",
    "\n",
    "print(\"hello1\")       #end change the line after one print() is executed\n",
    "print(\"hello2\")\n",
    "print(\"hello3\")"
   ]
  },
  {
   "cell_type": "code",
   "execution_count": 16,
   "metadata": {},
   "outputs": [
    {
     "name": "stdout",
     "output_type": "stream",
     "text": [
      "hello1hello2hello3\n"
     ]
    }
   ],
   "source": [
    "print(\"hello1\",end=\"\")       #changing value of end\n",
    "print(\"hello2\",end=\"\")\n",
    "print(\"hello3\")"
   ]
  },
  {
   "cell_type": "code",
   "execution_count": 17,
   "metadata": {},
   "outputs": [
    {
     "name": "stdout",
     "output_type": "stream",
     "text": [
      "hello1 hello2 hello3\n"
     ]
    }
   ],
   "source": [
    "print(\"hello1\",end=\" \")       #changing value of end\n",
    "print(\"hello2\",end=\" \")\n",
    "print(\"hello3\")"
   ]
  },
  {
   "cell_type": "code",
   "execution_count": 18,
   "metadata": {},
   "outputs": [
    {
     "name": "stdout",
     "output_type": "stream",
     "text": [
      "hello1\thello2\thello3\n"
     ]
    }
   ],
   "source": [
    "print(\"hello1\",end=\"\\t\")       #changing value of end\n",
    "print(\"hello2\",end=\"\\t\")\n",
    "print(\"hello3\")"
   ]
  },
  {
   "cell_type": "code",
   "execution_count": 19,
   "metadata": {},
   "outputs": [
    {
     "name": "stdout",
     "output_type": "stream",
     "text": [
      "hello1\t\thello2\t\thello3\n"
     ]
    }
   ],
   "source": [
    "print(\"hello1\",end=\"\\t\\t\")       #changing value of end\n",
    "print(\"hello2\",end=\"\\t\\t\")\n",
    "print(\"hello3\")"
   ]
  },
  {
   "cell_type": "code",
   "execution_count": 21,
   "metadata": {},
   "outputs": [
    {
     "name": "stdout",
     "output_type": "stream",
     "text": [
      "hello1\\hello2\\hello3\n"
     ]
    }
   ],
   "source": [
    "print(\"hello1\",end=\"\\\\\")       #changing value of end\n",
    "print(\"hello2\",end=\"\\\\\")\n",
    "print(\"hello3\")"
   ]
  },
  {
   "cell_type": "code",
   "execution_count": 23,
   "metadata": {},
   "outputs": [
    {
     "name": "stdout",
     "output_type": "stream",
     "text": [
      "hello1,hello2,hello3\n"
     ]
    }
   ],
   "source": [
    "print(\"hello1\",end=\",\")       #changing value of end\n",
    "print(\"hello2\",end=\",\")\n",
    "print(\"hello3\")"
   ]
  },
  {
   "cell_type": "code",
   "execution_count": 24,
   "metadata": {},
   "outputs": [
    {
     "name": "stdout",
     "output_type": "stream",
     "text": [
      "hello1\n",
      "\n",
      "hello2\n",
      "\n",
      "hello3\n"
     ]
    }
   ],
   "source": [
    "print(\"hello1\",end=\"\\n\\n\")       #changing value of end\n",
    "print(\"hello2\",end=\"\\n\\n\")\n",
    "print(\"hello3\")"
   ]
  },
  {
   "cell_type": "code",
   "execution_count": null,
   "metadata": {},
   "outputs": [],
   "source": []
  }
 ],
 "metadata": {
  "kernelspec": {
   "display_name": "Python 3",
   "language": "python",
   "name": "python3"
  },
  "language_info": {
   "codemirror_mode": {
    "name": "ipython",
    "version": 3
   },
   "file_extension": ".py",
   "mimetype": "text/x-python",
   "name": "python",
   "nbconvert_exporter": "python",
   "pygments_lexer": "ipython3",
   "version": "3.7.4"
  }
 },
 "nbformat": 4,
 "nbformat_minor": 2
}
